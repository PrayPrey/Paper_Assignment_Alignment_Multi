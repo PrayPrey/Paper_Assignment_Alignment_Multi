{
 "cells": [
  {
   "cell_type": "code",
   "execution_count": null,
   "metadata": {},
   "outputs": [
    {
     "name": "stderr",
     "output_type": "stream",
     "text": [
      "2025-04-01 23:37:27.636 Thread 'MainThread': missing ScriptRunContext! This warning can be ignored when running in bare mode.\n",
      "2025-04-01 23:37:27.637 Thread 'MainThread': missing ScriptRunContext! This warning can be ignored when running in bare mode.\n",
      "2025-04-01 23:37:27.637 Thread 'MainThread': missing ScriptRunContext! This warning can be ignored when running in bare mode.\n",
      "2025-04-01 23:37:27.638 Thread 'MainThread': missing ScriptRunContext! This warning can be ignored when running in bare mode.\n",
      "2025-04-01 23:37:27.638 Thread 'MainThread': missing ScriptRunContext! This warning can be ignored when running in bare mode.\n",
      "2025-04-01 23:37:27.639 Thread 'MainThread': missing ScriptRunContext! This warning can be ignored when running in bare mode.\n",
      "2025-04-01 23:37:27.639 Thread 'MainThread': missing ScriptRunContext! This warning can be ignored when running in bare mode.\n",
      "2025-04-01 23:37:27.640 Thread 'MainThread': missing ScriptRunContext! This warning can be ignored when running in bare mode.\n"
     ]
    }
   ],
   "source": [
    "import streamlit as st\n",
    "from langgraph.graph import StateGraph\n",
    "from typing import TypedDict, Literal\n",
    "import fitz  # PyMuPDF\n",
    "from docx import Document\n",
    "import tempfile\n",
    "\n",
    "# ======= PROMPTS & UTILS =======\n",
    "summarizer_prompt = \"\"\"\n",
    "너는 자료를 읽고 해당 자료로부터 주요내용을 추출하는 거야  \n",
    "가장 추출할 수 있을 만큼 압축해서 내용을 추출해주는데\n",
    "\n",
    "3가지는 반드시 가지고 있어야해.\n",
    "\n",
    "1) 기법 설명  \n",
    "2) 장점 및 효과  \n",
    "3) 예상 질문  \n",
    "핵심 내용만 담은 상태로 가장 압축시켜서  \n",
    "a4 용지 1장 이내로 정리해줘\n",
    "\n",
    "빨강색 밑줄 글자로 논문 제목 별 나뉘어져 있어\n",
    "\"\"\"\n",
    "\n",
    "critic_prompt = \"\"\"\n",
    "다음은 한 문서와 그것을 요약한 내용이야.  \n",
    "요약이 아래 조건을 충족하는지 평가해줘:\n",
    "\n",
    "1. 기법 설명이 구체적이고 간결하게 요약되었는가?  \n",
    "2. 장점 및 효과가 논리적으로 도출되었는가?  \n",
    "3. 예상 질문이 타당하고 실제 질문 가능성이 높은가?\n",
    "\n",
    "이 3가지 항목 각각에 대해 ✅ 또는 ❌로 체크해주고, ❌가 있다면 그 이유를 구체적으로 설명해줘.  \n",
    "그리고 \"수정 필요\" 또는 \"완료\" 중 하나를 최종 판단으로 내려줘.\n",
    "\"\"\"\n",
    "\n",
    "def extract_text_from_pdf(file) -> str:\n",
    "    text = \"\"\n",
    "    with fitz.open(stream=file.read(), filetype=\"pdf\") as doc:\n",
    "        for page in doc:\n",
    "            text += page.get_text()\n",
    "    return text\n",
    "\n",
    "def save_summary_to_word(summary: str) -> str:\n",
    "    doc = Document()\n",
    "    doc.add_heading(\"📄 논문 요약\", 0)\n",
    "    doc.add_paragraph(summary)\n",
    "    temp_file = tempfile.NamedTemporaryFile(delete=False, suffix=\".docx\")\n",
    "    doc.save(temp_file.name)\n",
    "    return temp_file.name\n",
    "\n",
    "def fake_llm(prompt: str) -> str:\n",
    "    if \"평가해줘\" in prompt:\n",
    "        return \"1. ✅\\n2. ✅\\n3. ✅\\n\\n최종 판단: 완료\"\n",
    "    return \"[요약 예시] 기법은 Self-Para-Consistency를 활용해 샘플링 수를 줄이는 전략이고...\"\n",
    "\n",
    "# ======= MULTI-AGENT LOGIC =======\n",
    "class State(TypedDict):\n",
    "    document: str\n",
    "    summary: str\n",
    "    feedback: str\n",
    "    status: Literal[\"in_progress\", \"done\"]\n",
    "    loop_count: int\n",
    "\n",
    "def call_summarizer(document: str, feedback: str = \"\") -> str:\n",
    "    prompt = summarizer_prompt\n",
    "    if feedback:\n",
    "        prompt += f\"\\n\\nCritic의 피드백을 참고하여 수정:\\n{feedback}\"\n",
    "    return fake_llm(prompt + \"\\n\\n\" + document)\n",
    "\n",
    "def call_critic(document: str, summary: str):\n",
    "    prompt = critic_prompt + f\"\\n\\n문서:\\n{document}\\n\\n요약:\\n{summary}\"\n",
    "    critique = fake_llm(prompt)\n",
    "    if \"완료\" in critique:\n",
    "        return critique, \"done\", \"\"\n",
    "    else:\n",
    "        feedback = critique.split(\"❌\")[1].strip() if \"❌\" in critique else critique\n",
    "        return critique, \"in_progress\", feedback\n",
    "\n",
    "def summarizer_node(state):\n",
    "    summary = call_summarizer(state[\"document\"], state.get(\"feedback\", \"\"))\n",
    "    return {**state, \"summary\": summary, \"loop_count\": state[\"loop_count\"] + 1}\n",
    "\n",
    "def critic_node(state):\n",
    "    critique, status, feedback = call_critic(state[\"document\"], state[\"summary\"])\n",
    "    st.markdown(f\"### 🧐 Critic 평가 ({state['loop_count']}회차)\")\n",
    "    st.code(critique)\n",
    "    return {**state, \"feedback\": feedback, \"status\": status}\n",
    "\n",
    "def check_continue(state):\n",
    "    if state[\"status\"] == \"done\" or state[\"loop_count\"] >= 3:\n",
    "        return \"exit\"\n",
    "    return \"continue\"\n",
    "\n",
    "def build_graph():\n",
    "    builder = StateGraph(State)\n",
    "    builder.add_node(\"summarizer\", summarizer_node)\n",
    "    builder.add_node(\"critic\", critic_node)\n",
    "    builder.set_entry_point(\"summarizer\")\n",
    "    builder.add_edge(\"summarizer\", \"critic\")\n",
    "    builder.add_conditional_edges(\"critic\", check_continue, {\n",
    "        \"continue\": \"summarizer\",\n",
    "        \"exit\": None\n",
    "    })\n",
    "    return builder.compile()\n"
   ]
  },
  {
   "cell_type": "code",
   "execution_count": null,
   "metadata": {},
   "outputs": [],
   "source": []
  },
  {
   "cell_type": "code",
   "execution_count": null,
   "metadata": {},
   "outputs": [],
   "source": []
  },
  {
   "cell_type": "code",
   "execution_count": null,
   "metadata": {},
   "outputs": [],
   "source": []
  },
  {
   "cell_type": "code",
   "execution_count": null,
   "metadata": {},
   "outputs": [],
   "source": []
  },
  {
   "cell_type": "code",
   "execution_count": null,
   "metadata": {},
   "outputs": [],
   "source": []
  },
  {
   "cell_type": "code",
   "execution_count": null,
   "metadata": {},
   "outputs": [],
   "source": []
  },
  {
   "cell_type": "code",
   "execution_count": null,
   "metadata": {},
   "outputs": [],
   "source": []
  },
  {
   "cell_type": "code",
   "execution_count": null,
   "metadata": {},
   "outputs": [],
   "source": []
  },
  {
   "cell_type": "code",
   "execution_count": null,
   "metadata": {},
   "outputs": [],
   "source": []
  },
  {
   "cell_type": "code",
   "execution_count": null,
   "metadata": {},
   "outputs": [],
   "source": []
  },
  {
   "cell_type": "code",
   "execution_count": null,
   "metadata": {},
   "outputs": [],
   "source": []
  }
 ],
 "metadata": {
  "kernelspec": {
   "display_name": "multi",
   "language": "python",
   "name": "python3"
  },
  "language_info": {
   "codemirror_mode": {
    "name": "ipython",
    "version": 3
   },
   "file_extension": ".py",
   "mimetype": "text/x-python",
   "name": "python",
   "nbconvert_exporter": "python",
   "pygments_lexer": "ipython3",
   "version": "3.12.3"
  }
 },
 "nbformat": 4,
 "nbformat_minor": 2
}
